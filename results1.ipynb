{
 "cells": [
  {
   "cell_type": "code",
   "execution_count": 1,
   "metadata": {
    "collapsed": true
   },
   "outputs": [],
   "source": [
    "import numpy as np\n",
    "import matplotlib.pyplot as plt"
   ]
  },
  {
   "cell_type": "code",
   "execution_count": 2,
   "metadata": {
    "collapsed": true
   },
   "outputs": [],
   "source": [
    "# Copied from https://gist.github.com/grzanka/0485c05a59991c4826d2c2624710e5f0\n",
    "def read_trc_file(filename, count=-1, only_metadata = False):\n",
    "    from lecroy import LecroyBinaryWaveform\n",
    "    data = LecroyBinaryWaveform(inputfilename=filename, file_content=None, count=count)\n",
    "    y_data = None\n",
    "    if not only_metadata:\n",
    "        y_data = data.WAVE_ARRAY_RAW\n",
    "    metadata_dict = data.metadata\n",
    "    return y_data, metadata_dict\n"
   ]
  },
  {
   "cell_type": "code",
   "execution_count": 43,
   "metadata": {
    "collapsed": true
   },
   "outputs": [],
   "source": [
    "# Copied from: https://gist.github.com/grzanka/0485c05a59991c4826d2c2624710e5f0\n",
    "def convert_to_uV(y_data, metadata_dict):\n",
    "    # if metadata_dict['VERTICAL_GAIN'] != np.float32('6.25e-5'):\n",
    "    #     return None\n",
    "\n",
    "    offset_uV = np.int32(np.around(metadata_dict['VERTICAL_OFFSET'] * 1e6))\n",
    "    gain = np.int32(np.around(metadata_dict['VERTICAL_GAIN'] * 1e6))\n",
    "\n",
    "    y_data_uV = y_data.astype(np.int32)\n",
    "    y_data_uV *= gain\n",
    "    y_data_uV -= offset_uV\n",
    "\n",
    "    return y_data_uV"
   ]
  },
  {
   "cell_type": "code",
   "execution_count": 44,
   "metadata": {},
   "outputs": [],
   "source": [
    "file = 'C2Trace00012.trc'\n",
    "trc_data = read_trc_file(file)\n",
    "trc_data_converted = convert_to_uV(trc_data[0], trc_data[1])"
   ]
  },
  {
   "cell_type": "code",
   "execution_count": 45,
   "metadata": {
    "collapsed": true
   },
   "outputs": [],
   "source": [
    "trc_data_uniq = np.unique(trc_data_converted)\n",
    "trc_data_sorted = np.sort(trc_data_uniq, kind='quicksort')"
   ]
  },
  {
   "cell_type": "code",
   "execution_count": 46,
   "metadata": {},
   "outputs": [],
   "source": [
    "diffs = np.diff(trc_data_sorted)\n",
    "min_diff = np.amin(diffs)"
   ]
  },
  {
   "cell_type": "code",
   "execution_count": 47,
   "metadata": {},
   "outputs": [],
   "source": [
    "current_bin = trc_data_sorted[0] - min_diff / 2\n",
    "bins = np.arange(current_bin,trc_data_sorted[-1] + min_diff,min_diff)"
   ]
  },
  {
   "cell_type": "code",
   "execution_count": 48,
   "metadata": {},
   "outputs": [
    {
     "data": {
      "text/plain": [
       "(array([  1.33000000e+02,   0.00000000e+00,   2.00000000e+00,\n",
       "          1.00000000e+00,   3.00000000e+00,   2.00000000e+00,\n",
       "          1.00000000e+00,   2.00000000e+00,   1.00000000e+00,\n",
       "          2.00000000e+00,   1.00000000e+00,   1.00000000e+00,\n",
       "          1.00000000e+00,   0.00000000e+00,   1.00000000e+00,\n",
       "          1.00000000e+00,   5.00000000e+00,   1.00000000e+00,\n",
       "          4.00000000e+00,   1.00000000e+00,   2.00000000e+00,\n",
       "          5.00000000e+00,   4.00000000e+00,   0.00000000e+00,\n",
       "          6.00000000e+00,   6.00000000e+00,   2.00000000e+00,\n",
       "          3.00000000e+00,   2.00000000e+00,   2.00000000e+00,\n",
       "          6.00000000e+00,   1.00000000e+00,   8.00000000e+00,\n",
       "          1.10000000e+01,   1.20000000e+01,   2.40000000e+01,\n",
       "          2.80000000e+01,   5.20000000e+01,   7.70000000e+01,\n",
       "          1.30000000e+02,   1.99000000e+02,   4.06000000e+02,\n",
       "          6.41000000e+02,   1.08900000e+03,   2.02200000e+03,\n",
       "          3.38800000e+03,   5.37100000e+03,   9.51500000e+03,\n",
       "          1.52550000e+04,   2.61340000e+04,   3.94390000e+04,\n",
       "          5.22640000e+04,   7.53910000e+04,   9.04670000e+04,\n",
       "          1.14923000e+05,   1.41295000e+05,   1.78104000e+05,\n",
       "          2.39686000e+05,   3.12141000e+05,   3.62368000e+05,\n",
       "          4.26771000e+05,   4.58707000e+05,   4.75640000e+05,\n",
       "          5.46760000e+05,   5.61613000e+05,   5.86354000e+05,\n",
       "          5.66496000e+05,   5.24316000e+05,   4.67939000e+05,\n",
       "          3.86712000e+05,   2.98995000e+05,   2.32423000e+05,\n",
       "          1.75261000e+05,   1.25455000e+05,   9.11790000e+04,\n",
       "          6.35170000e+04,   4.74360000e+04,   3.29900000e+04,\n",
       "          2.37860000e+04,   1.87710000e+04,   1.42880000e+04,\n",
       "          1.19540000e+04,   9.38800000e+03,   7.56500000e+03,\n",
       "          6.43800000e+03,   5.49200000e+03,   4.97000000e+03,\n",
       "          4.67300000e+03,   4.43800000e+03,   4.27300000e+03,\n",
       "          4.06600000e+03,   3.73600000e+03,   3.36100000e+03,\n",
       "          2.98300000e+03,   2.77300000e+03,   2.84900000e+03,\n",
       "          2.67300000e+03,   2.72400000e+03,   2.64100000e+03,\n",
       "          2.60900000e+03,   2.48400000e+03,   2.29700000e+03,\n",
       "          2.19900000e+03,   2.17400000e+03,   2.10500000e+03,\n",
       "          2.11100000e+03,   1.98300000e+03,   2.01900000e+03,\n",
       "          2.22800000e+03,   2.17300000e+03,   2.20600000e+03,\n",
       "          2.26300000e+03,   2.32700000e+03,   2.47000000e+03,\n",
       "          2.46900000e+03,   2.27700000e+03,   2.31100000e+03,\n",
       "          2.19800000e+03,   2.15300000e+03,   2.03800000e+03,\n",
       "          1.89900000e+03,   2.02400000e+03,   2.19300000e+03,\n",
       "          2.21400000e+03,   2.24700000e+03,   2.18600000e+03,\n",
       "          2.24700000e+03,   2.47700000e+03,   2.42600000e+03,\n",
       "          2.63800000e+03,   2.75500000e+03,   2.75400000e+03,\n",
       "          2.64700000e+03,   2.54300000e+03,   2.23400000e+03,\n",
       "          2.04100000e+03,   1.82500000e+03,   1.63500000e+03,\n",
       "          1.64500000e+03,   1.42400000e+03,   1.53500000e+03,\n",
       "          1.37600000e+03,   1.30800000e+03,   1.30100000e+03,\n",
       "          1.21100000e+03,   1.22700000e+03,   1.21600000e+03,\n",
       "          1.10600000e+03,   1.01600000e+03,   9.11000000e+02,\n",
       "          8.88000000e+02,   7.49000000e+02,   6.50000000e+02,\n",
       "          7.50000000e+02,   7.17000000e+02,   6.81000000e+02,\n",
       "          6.54000000e+02,   5.39000000e+02,   4.49000000e+02,\n",
       "          4.38000000e+02,   4.33000000e+02,   3.93000000e+02,\n",
       "          3.45000000e+02,   3.44000000e+02,   3.33000000e+02,\n",
       "          2.71000000e+02,   2.25000000e+02,   2.20000000e+02,\n",
       "          2.18000000e+02,   1.90000000e+02,   2.06000000e+02,\n",
       "          2.01000000e+02,   1.86000000e+02,   2.08000000e+02,\n",
       "          1.94000000e+02,   1.64000000e+02,   1.89000000e+02,\n",
       "          1.47000000e+02,   1.55000000e+02,   1.26000000e+02,\n",
       "          1.17000000e+02,   9.20000000e+01,   9.40000000e+01,\n",
       "          5.70000000e+01,   6.70000000e+01,   6.70000000e+01,\n",
       "          7.30000000e+01,   6.90000000e+01,   8.60000000e+01,\n",
       "          6.90000000e+01,   6.40000000e+01,   7.60000000e+01,\n",
       "          7.50000000e+01,   6.50000000e+01,   5.30000000e+01,\n",
       "          7.30000000e+01,   5.00000000e+01,   5.20000000e+01,\n",
       "          4.90000000e+01,   3.60000000e+01,   3.80000000e+01,\n",
       "          3.80000000e+01,   2.40000000e+01,   3.60000000e+01,\n",
       "          3.20000000e+01,   3.70000000e+01,   3.20000000e+01,\n",
       "          3.50000000e+01,   3.30000000e+01,   3.30000000e+01,\n",
       "          2.40000000e+01,   2.60000000e+01,   2.60000000e+01,\n",
       "          2.20000000e+01,   2.60000000e+01,   2.30000000e+01,\n",
       "          1.10000000e+01,   1.20000000e+01,   1.60000000e+01,\n",
       "          1.70000000e+01,   1.20000000e+01,   1.40000000e+01,\n",
       "          1.60000000e+01,   1.10000000e+01,   7.00000000e+00,\n",
       "          1.20000000e+01,   1.00000000e+01,   9.00000000e+00,\n",
       "          5.00000000e+00,   7.00000000e+00,   8.00000000e+00,\n",
       "          5.00000000e+00,   3.00000000e+00,   6.00000000e+00,\n",
       "          4.00000000e+00,   1.00000000e+01,   6.00000000e+00,\n",
       "          8.00000000e+00,   4.00000000e+00,   8.00000000e+00,\n",
       "          3.00000000e+00,   8.00000000e+00,   3.00000000e+00,\n",
       "          7.00000000e+00,   5.00000000e+00,   3.00000000e+00,\n",
       "          4.00000000e+00,   3.00000000e+00,   4.00000000e+00,\n",
       "          2.00000000e+00,   1.00000000e+00,   1.00000000e+00,\n",
       "          1.00000000e+00,   0.00000000e+00,   6.00000000e+00,\n",
       "          2.14000000e+02]),\n",
       " array([ -42688.,  -41920.,  -41152.,  -40384.,  -39616.,  -38848.,\n",
       "         -38080.,  -37312.,  -36544.,  -35776.,  -35008.,  -34240.,\n",
       "         -33472.,  -32704.,  -31936.,  -31168.,  -30400.,  -29632.,\n",
       "         -28864.,  -28096.,  -27328.,  -26560.,  -25792.,  -25024.,\n",
       "         -24256.,  -23488.,  -22720.,  -21952.,  -21184.,  -20416.,\n",
       "         -19648.,  -18880.,  -18112.,  -17344.,  -16576.,  -15808.,\n",
       "         -15040.,  -14272.,  -13504.,  -12736.,  -11968.,  -11200.,\n",
       "         -10432.,   -9664.,   -8896.,   -8128.,   -7360.,   -6592.,\n",
       "          -5824.,   -5056.,   -4288.,   -3520.,   -2752.,   -1984.,\n",
       "          -1216.,    -448.,     320.,    1088.,    1856.,    2624.,\n",
       "           3392.,    4160.,    4928.,    5696.,    6464.,    7232.,\n",
       "           8000.,    8768.,    9536.,   10304.,   11072.,   11840.,\n",
       "          12608.,   13376.,   14144.,   14912.,   15680.,   16448.,\n",
       "          17216.,   17984.,   18752.,   19520.,   20288.,   21056.,\n",
       "          21824.,   22592.,   23360.,   24128.,   24896.,   25664.,\n",
       "          26432.,   27200.,   27968.,   28736.,   29504.,   30272.,\n",
       "          31040.,   31808.,   32576.,   33344.,   34112.,   34880.,\n",
       "          35648.,   36416.,   37184.,   37952.,   38720.,   39488.,\n",
       "          40256.,   41024.,   41792.,   42560.,   43328.,   44096.,\n",
       "          44864.,   45632.,   46400.,   47168.,   47936.,   48704.,\n",
       "          49472.,   50240.,   51008.,   51776.,   52544.,   53312.,\n",
       "          54080.,   54848.,   55616.,   56384.,   57152.,   57920.,\n",
       "          58688.,   59456.,   60224.,   60992.,   61760.,   62528.,\n",
       "          63296.,   64064.,   64832.,   65600.,   66368.,   67136.,\n",
       "          67904.,   68672.,   69440.,   70208.,   70976.,   71744.,\n",
       "          72512.,   73280.,   74048.,   74816.,   75584.,   76352.,\n",
       "          77120.,   77888.,   78656.,   79424.,   80192.,   80960.,\n",
       "          81728.,   82496.,   83264.,   84032.,   84800.,   85568.,\n",
       "          86336.,   87104.,   87872.,   88640.,   89408.,   90176.,\n",
       "          90944.,   91712.,   92480.,   93248.,   94016.,   94784.,\n",
       "          95552.,   96320.,   97088.,   97856.,   98624.,   99392.,\n",
       "         100160.,  100928.,  101696.,  102464.,  103232.,  104000.,\n",
       "         104768.,  105536.,  106304.,  107072.,  107840.,  108608.,\n",
       "         109376.,  110144.,  110912.,  111680.,  112448.,  113216.,\n",
       "         113984.,  114752.,  115520.,  116288.,  117056.,  117824.,\n",
       "         118592.,  119360.,  120128.,  120896.,  121664.,  122432.,\n",
       "         123200.,  123968.,  124736.,  125504.,  126272.,  127040.,\n",
       "         127808.,  128576.,  129344.,  130112.,  130880.,  131648.,\n",
       "         132416.,  133184.,  133952.,  134720.,  135488.,  136256.,\n",
       "         137024.,  137792.,  138560.,  139328.,  140096.,  140864.,\n",
       "         141632.,  142400.,  143168.,  143936.,  144704.,  145472.,\n",
       "         146240.,  147008.,  147776.,  148544.,  149312.,  150080.,\n",
       "         150848.,  151616.,  152384.,  153152.,  153920.]),\n",
       " <a list of 256 Patch objects>)"
      ]
     },
     "execution_count": 48,
     "metadata": {},
     "output_type": "execute_result"
    }
   ],
   "source": [
    "plt.hist(trc_data_converted, bins=bins)"
   ]
  },
  {
   "cell_type": "code",
   "execution_count": 49,
   "metadata": {
    "collapsed": true
   },
   "outputs": [],
   "source": [
    "plt.yscale('log', nonposy='clip')"
   ]
  },
  {
   "cell_type": "code",
   "execution_count": 50,
   "metadata": {},
   "outputs": [
    {
     "data": {
      "text/plain": [
       "<matplotlib.text.Text at 0x7fa9394255c0>"
      ]
     },
     "execution_count": 50,
     "metadata": {},
     "output_type": "execute_result"
    }
   ],
   "source": [
    "plt.ylabel('Points')\n",
    "plt.xlabel('Voltage (uV)')"
   ]
  },
  {
   "cell_type": "code",
   "execution_count": 51,
   "metadata": {},
   "outputs": [
    {
     "data": {
      "image/png": "[encoded data removed]",
      "text/plain": [
       "<matplotlib.figure.Figure at 0x7fa9393afe10>"
      ]
     },
     "metadata": {},
     "output_type": "display_data"
    }
   ],
   "source": [
    "plt.show()"
   ]
  },
  {
   "cell_type": "code",
   "execution_count": null,
   "metadata": {
    "collapsed": true
   },
   "outputs": [],
   "source": []
  }
 ],
 "metadata": {
  "kernelspec": {
   "display_name": "Python 3",
   "language": "python",
   "name": "python3"
  },
  "language_info": {
   "codemirror_mode": {
    "name": "ipython",
    "version": 3
   },
   "file_extension": ".py",
   "mimetype": "text/x-python",
   "name": "python",
   "nbconvert_exporter": "python",
   "pygments_lexer": "ipython3",
   "version": "3.5.2"
  }
 },
 "nbformat": 4,
 "nbformat_minor": 2
}

{
 "cells": [
  {
   "cell_type": "code",
   "execution_count": 1,
   "metadata": {
    "collapsed": true
   },
   "outputs": [],
   "source": [
    "import numpy as np\n",
    "import matplotlib.pyplot as plt"
   ]
  },
  {
   "cell_type": "code",
   "execution_count": 2,
   "metadata": {
    "collapsed": true
   },
   "outputs": [],
   "source": [
    "# Copied from https://gist.github.com/grzanka/0485c05a59991c4826d2c2624710e5f0\n",
    "def read_trc_file(filename, count=-1, only_metadata = False):\n",
    "    from lecroy import LecroyBinaryWaveform\n",
    "    data = LecroyBinaryWaveform(inputfilename=filename, file_content=None, count=count)\n",
    "    y_data = None\n",
    "    if not only_metadata:\n",
    "        y_data = data.WAVE_ARRAY_RAW\n",
    "    metadata_dict = data.metadata\n",
    "    return y_data, metadata_dict\n"
   ]
  },
  {
   "cell_type": "code",
   "execution_count": 3,
   "metadata": {
    "collapsed": true
   },
   "outputs": [],
   "source": [
    "# Copied from: https://gist.github.com/grzanka/0485c05a59991c4826d2c2624710e5f0\n",
    "def convert_to_uV(y_data, metadata_dict):\n",
    "    # if metadata_dict['VERTICAL_GAIN'] != np.float32('6.25e-5'):\n",
    "    #     return None\n",
    "\n",
    "    offset_uV = np.int32(np.around(metadata_dict['VERTICAL_OFFSET'] * 1e6))\n",
    "    gain = np.int32(np.around(metadata_dict['VERTICAL_GAIN'] * 1e6))\n",
    "\n",
    "    y_data_uV = y_data.astype(np.int32)\n",
    "    y_data_uV //= 16\n",
    "    y_data_uV *= 100\n",
    "    y_data_uV *= gain\n",
    "    y_data_uV -= offset_uV\n",
    "\n",
    "    return y_data_uV"
   ]
  },
  {
   "cell_type": "code",
   "execution_count": 78,
   "metadata": {},
   "outputs": [],
   "source": [
    "file = 'C2Trace00012.trc'\n",
    "trc_data = read_trc_file(file)\n",
    "trc_data_converted = convert_to_uV(trc_data[0], trc_data[1])"
   ]
  },
  {
   "cell_type": "code",
   "execution_count": 79,
   "metadata": {
    "collapsed": true
   },
   "outputs": [],
   "source": [
    "trc_data_uniq = np.unique(trc_data_converted)\n",
    "trc_data_sorted = np.sort(trc_data_uniq, kind='quicksort')"
   ]
  },
  {
   "cell_type": "code",
   "execution_count": 80,
   "metadata": {
    "collapsed": true
   },
   "outputs": [],
   "source": [
    "trc_data_pairs = list(zip(trc_data_sorted,trc_data_sorted[1:]))"
   ]
  },
  {
   "cell_type": "code",
   "execution_count": 87,
   "metadata": {},
   "outputs": [],
   "source": [
    "bins = []\n",
    "for i,j in trc_data_pairs:\n",
    "    bins.append((j+i)/2)\n",
    "bins = np.sort(bins)"
   ]
  },
  {
   "cell_type": "code",
   "execution_count": 92,
   "metadata": {},
   "outputs": [
    {
     "data": {
      "text/plain": [
       "(array([  2.00000000e+00,   1.00000000e+00,   3.00000000e+00,\n",
       "          2.00000000e+00,   1.00000000e+00,   2.00000000e+00,\n",
       "          1.00000000e+00,   2.00000000e+00,   1.00000000e+00,\n",
       "          1.00000000e+00,   1.00000000e+00,   1.00000000e+00,\n",
       "          1.00000000e+00,   5.00000000e+00,   1.00000000e+00,\n",
       "          4.00000000e+00,   1.00000000e+00,   2.00000000e+00,\n",
       "          5.00000000e+00,   4.00000000e+00,   6.00000000e+00,\n",
       "          6.00000000e+00,   2.00000000e+00,   3.00000000e+00,\n",
       "          2.00000000e+00,   2.00000000e+00,   6.00000000e+00,\n",
       "          1.00000000e+00,   8.00000000e+00,   1.10000000e+01,\n",
       "          1.20000000e+01,   2.40000000e+01,   2.80000000e+01,\n",
       "          5.20000000e+01,   7.70000000e+01,   1.30000000e+02,\n",
       "          1.99000000e+02,   4.06000000e+02,   6.41000000e+02,\n",
       "          1.08900000e+03,   2.02200000e+03,   3.38800000e+03,\n",
       "          5.37100000e+03,   9.51500000e+03,   1.52550000e+04,\n",
       "          2.61340000e+04,   3.94390000e+04,   5.22640000e+04,\n",
       "          7.53910000e+04,   9.04670000e+04,   1.14923000e+05,\n",
       "          1.41295000e+05,   1.78104000e+05,   2.39686000e+05,\n",
       "          3.12141000e+05,   3.62368000e+05,   4.26771000e+05,\n",
       "          4.58707000e+05,   4.75640000e+05,   5.46760000e+05,\n",
       "          5.61613000e+05,   5.86354000e+05,   5.66496000e+05,\n",
       "          5.24316000e+05,   4.67939000e+05,   3.86712000e+05,\n",
       "          2.98995000e+05,   2.32423000e+05,   1.75261000e+05,\n",
       "          1.25455000e+05,   9.11790000e+04,   6.35170000e+04,\n",
       "          4.74360000e+04,   3.29900000e+04,   2.37860000e+04,\n",
       "          1.87710000e+04,   1.42880000e+04,   1.19540000e+04,\n",
       "          9.38800000e+03,   7.56500000e+03,   6.43800000e+03,\n",
       "          5.49200000e+03,   4.97000000e+03,   4.67300000e+03,\n",
       "          4.43800000e+03,   4.27300000e+03,   4.06600000e+03,\n",
       "          3.73600000e+03,   3.36100000e+03,   2.98300000e+03,\n",
       "          2.77300000e+03,   2.84900000e+03,   2.67300000e+03,\n",
       "          2.72400000e+03,   2.64100000e+03,   2.60900000e+03,\n",
       "          2.48400000e+03,   2.29700000e+03,   2.19900000e+03,\n",
       "          2.17400000e+03,   2.10500000e+03,   2.11100000e+03,\n",
       "          1.98300000e+03,   2.01900000e+03,   2.22800000e+03,\n",
       "          2.17300000e+03,   2.20600000e+03,   2.26300000e+03,\n",
       "          2.32700000e+03,   2.47000000e+03,   2.46900000e+03,\n",
       "          2.27700000e+03,   2.31100000e+03,   2.19800000e+03,\n",
       "          2.15300000e+03,   2.03800000e+03,   1.89900000e+03,\n",
       "          2.02400000e+03,   2.19300000e+03,   2.21400000e+03,\n",
       "          2.24700000e+03,   2.18600000e+03,   2.24700000e+03,\n",
       "          2.47700000e+03,   2.42600000e+03,   2.63800000e+03,\n",
       "          2.75500000e+03,   2.75400000e+03,   2.64700000e+03,\n",
       "          2.54300000e+03,   2.23400000e+03,   2.04100000e+03,\n",
       "          1.82500000e+03,   1.63500000e+03,   1.64500000e+03,\n",
       "          1.42400000e+03,   1.53500000e+03,   1.37600000e+03,\n",
       "          1.30800000e+03,   1.30100000e+03,   1.21100000e+03,\n",
       "          1.22700000e+03,   1.21600000e+03,   1.10600000e+03,\n",
       "          1.01600000e+03,   9.11000000e+02,   8.88000000e+02,\n",
       "          7.49000000e+02,   6.50000000e+02,   7.50000000e+02,\n",
       "          7.17000000e+02,   6.81000000e+02,   6.54000000e+02,\n",
       "          5.39000000e+02,   4.49000000e+02,   4.38000000e+02,\n",
       "          4.33000000e+02,   3.93000000e+02,   3.45000000e+02,\n",
       "          3.44000000e+02,   3.33000000e+02,   2.71000000e+02,\n",
       "          2.25000000e+02,   2.20000000e+02,   2.18000000e+02,\n",
       "          1.90000000e+02,   2.06000000e+02,   2.01000000e+02,\n",
       "          1.86000000e+02,   2.08000000e+02,   1.94000000e+02,\n",
       "          1.64000000e+02,   1.89000000e+02,   1.47000000e+02,\n",
       "          1.55000000e+02,   1.26000000e+02,   1.17000000e+02,\n",
       "          9.20000000e+01,   9.40000000e+01,   5.70000000e+01,\n",
       "          6.70000000e+01,   6.70000000e+01,   7.30000000e+01,\n",
       "          6.90000000e+01,   8.60000000e+01,   6.90000000e+01,\n",
       "          6.40000000e+01,   7.60000000e+01,   7.50000000e+01,\n",
       "          6.50000000e+01,   5.30000000e+01,   7.30000000e+01,\n",
       "          5.00000000e+01,   5.20000000e+01,   4.90000000e+01,\n",
       "          3.60000000e+01,   3.80000000e+01,   3.80000000e+01,\n",
       "          2.40000000e+01,   3.60000000e+01,   3.20000000e+01,\n",
       "          3.70000000e+01,   3.20000000e+01,   3.50000000e+01,\n",
       "          3.30000000e+01,   3.30000000e+01,   2.40000000e+01,\n",
       "          2.60000000e+01,   2.60000000e+01,   2.20000000e+01,\n",
       "          2.60000000e+01,   2.30000000e+01,   1.10000000e+01,\n",
       "          1.20000000e+01,   1.60000000e+01,   1.70000000e+01,\n",
       "          1.20000000e+01,   1.40000000e+01,   1.60000000e+01,\n",
       "          1.10000000e+01,   7.00000000e+00,   1.20000000e+01,\n",
       "          1.00000000e+01,   9.00000000e+00,   5.00000000e+00,\n",
       "          7.00000000e+00,   8.00000000e+00,   5.00000000e+00,\n",
       "          3.00000000e+00,   6.00000000e+00,   4.00000000e+00,\n",
       "          1.00000000e+01,   6.00000000e+00,   8.00000000e+00,\n",
       "          4.00000000e+00,   8.00000000e+00,   3.00000000e+00,\n",
       "          8.00000000e+00,   3.00000000e+00,   7.00000000e+00,\n",
       "          5.00000000e+00,   3.00000000e+00,   4.00000000e+00,\n",
       "          3.00000000e+00,   4.00000000e+00,   2.00000000e+00,\n",
       "          1.00000000e+00,   1.00000000e+00,   1.00000000e+00,\n",
       "          6.00000000e+00]),\n",
       " array([-553600., -546400., -541600., -536800., -532000., -527200.,\n",
       "        -522400., -517600., -512800., -508000., -503200., -496000.,\n",
       "        -488800., -484000., -479200., -474400., -469600., -464800.,\n",
       "        -460000., -455200., -448000., -440800., -436000., -431200.,\n",
       "        -426400., -421600., -416800., -412000., -407200., -402400.,\n",
       "        -397600., -392800., -388000., -383200., -378400., -373600.,\n",
       "        -368800., -364000., -359200., -354400., -349600., -344800.,\n",
       "        -340000., -335200., -330400., -325600., -320800., -316000.,\n",
       "        -311200., -306400., -301600., -296800., -292000., -287200.,\n",
       "        -282400., -277600., -272800., -268000., -263200., -258400.,\n",
       "        -253600., -248800., -244000., -239200., -234400., -229600.,\n",
       "        -224800., -220000., -215200., -210400., -205600., -200800.,\n",
       "        -196000., -191200., -186400., -181600., -176800., -172000.,\n",
       "        -167200., -162400., -157600., -152800., -148000., -143200.,\n",
       "        -138400., -133600., -128800., -124000., -119200., -114400.,\n",
       "        -109600., -104800., -100000.,  -95200.,  -90400.,  -85600.,\n",
       "         -80800.,  -76000.,  -71200.,  -66400.,  -61600.,  -56800.,\n",
       "         -52000.,  -47200.,  -42400.,  -37600.,  -32800.,  -28000.,\n",
       "         -23200.,  -18400.,  -13600.,   -8800.,   -4000.,     800.,\n",
       "           5600.,   10400.,   15200.,   20000.,   24800.,   29600.,\n",
       "          34400.,   39200.,   44000.,   48800.,   53600.,   58400.,\n",
       "          63200.,   68000.,   72800.,   77600.,   82400.,   87200.,\n",
       "          92000.,   96800.,  101600.,  106400.,  111200.,  116000.,\n",
       "         120800.,  125600.,  130400.,  135200.,  140000.,  144800.,\n",
       "         149600.,  154400.,  159200.,  164000.,  168800.,  173600.,\n",
       "         178400.,  183200.,  188000.,  192800.,  197600.,  202400.,\n",
       "         207200.,  212000.,  216800.,  221600.,  226400.,  231200.,\n",
       "         236000.,  240800.,  245600.,  250400.,  255200.,  260000.,\n",
       "         264800.,  269600.,  274400.,  279200.,  284000.,  288800.,\n",
       "         293600.,  298400.,  303200.,  308000.,  312800.,  317600.,\n",
       "         322400.,  327200.,  332000.,  336800.,  341600.,  346400.,\n",
       "         351200.,  356000.,  360800.,  365600.,  370400.,  375200.,\n",
       "         380000.,  384800.,  389600.,  394400.,  399200.,  404000.,\n",
       "         408800.,  413600.,  418400.,  423200.,  428000.,  432800.,\n",
       "         437600.,  442400.,  447200.,  452000.,  456800.,  461600.,\n",
       "         466400.,  471200.,  476000.,  480800.,  485600.,  490400.,\n",
       "         495200.,  500000.,  504800.,  509600.,  514400.,  519200.,\n",
       "         524000.,  528800.,  533600.,  538400.,  543200.,  548000.,\n",
       "         552800.,  557600.,  562400.,  567200.,  572000.,  576800.,\n",
       "         581600.,  586400.,  591200.,  596000.,  600800.,  605600.,\n",
       "         610400.,  615200.,  620000.,  624800.,  629600.,  634400.,\n",
       "         639200.,  644000.,  648800.,  656000.,  663200.]),\n",
       " <a list of 250 Patch objects>)"
      ]
     },
     "execution_count": 92,
     "metadata": {},
     "output_type": "execute_result"
    }
   ],
   "source": [
    "plt.hist(trc_data_converted, bins=bins)"
   ]
  },
  {
   "cell_type": "code",
   "execution_count": 93,
   "metadata": {},
   "outputs": [],
   "source": [
    "plt.yscale('log', nonposy='clip')"
   ]
  },
  {
   "cell_type": "code",
   "execution_count": 94,
   "metadata": {},
   "outputs": [
    {
     "data": {
      "text/plain": [
       "<matplotlib.text.Text at 0x7faedc396470>"
      ]
     },
     "execution_count": 94,
     "metadata": {},
     "output_type": "execute_result"
    }
   ],
   "source": [
    "plt.ylabel('Points')\n",
    "plt.xlabel('Voltage (uV)')"
   ]
  },
  {
   "cell_type": "code",
   "execution_count": 95,
   "metadata": {},
   "outputs": [
    {
     "data": {
      "image/png": "[encoded data removed]",
      "text/plain": [
       "<matplotlib.figure.Figure at 0x7faedc470828>"
      ]
     },
     "metadata": {},
     "output_type": "display_data"
    }
   ],
   "source": [
    "plt.show()"
   ]
  },
  {
   "cell_type": "code",
   "execution_count": null,
   "metadata": {
    "collapsed": true
   },
   "outputs": [],
   "source": []
  }
 ],
 "metadata": {
  "kernelspec": {
   "display_name": "Python 3",
   "language": "python",
   "name": "python3"
  },
  "language_info": {
   "codemirror_mode": {
    "name": "ipython",
    "version": 3
   },
   "file_extension": ".py",
   "mimetype": "text/x-python",
   "name": "python",
   "nbconvert_exporter": "python",
   "pygments_lexer": "ipython3",
   "version": "3.5.2"
  }
 },
 "nbformat": 4,
 "nbformat_minor": 2
}

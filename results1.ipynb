{
 "cells": [
  {
   "cell_type": "code",
   "execution_count": 55,
   "metadata": {
    "collapsed": true
   },
   "outputs": [],
   "source": [
    "import numpy as np\n",
    "import matplotlib.pyplot as plt"
   ]
  },
  {
   "cell_type": "code",
   "execution_count": 56,
   "metadata": {
    "collapsed": true
   },
   "outputs": [],
   "source": [
    "# Copied from https://gist.github.com/grzanka/0485c05a59991c4826d2c2624710e5f0\n",
    "def read_trc_file(filename, count=-1, only_metadata = False):\n",
    "    from lecroy import LecroyBinaryWaveform\n",
    "    data = LecroyBinaryWaveform(inputfilename=filename, file_content=None, count=count)\n",
    "    y_data = None\n",
    "    if not only_metadata:\n",
    "        y_data = data.WAVE_ARRAY_RAW\n",
    "    metadata_dict = data.metadata\n",
    "    return y_data, metadata_dict\n"
   ]
  },
  {
   "cell_type": "code",
   "execution_count": 57,
   "metadata": {
    "collapsed": true
   },
   "outputs": [],
   "source": [
    "# Copied from: https://gist.github.com/grzanka/0485c05a59991c4826d2c2624710e5f0\n",
    "def convert_to_uV(y_data, metadata_dict):\n",
    "    # if metadata_dict['VERTICAL_GAIN'] != np.float32('6.25e-5'):\n",
    "    #     return None\n",
    "\n",
    "    offset_uV = np.int32(np.around(metadata_dict['VERTICAL_OFFSET'] * 1e6))\n",
    "\n",
    "    y_data_uV = y_data.astype(np.int32)\n",
    "    y_data_uV //= 16\n",
    "    y_data_uV *= 100\n",
    "    y_data_uV -= offset_uV\n",
    "\n",
    "    return y_data_uV"
   ]
  },
  {
   "cell_type": "code",
   "execution_count": 58,
   "metadata": {},
   "outputs": [],
   "source": [
    "file = 'data.trc'\n",
    "trc_data = read_trc_file(file)\n",
    "trc_data_converted = convert_to_uV(trc_data[0], trc_data[1])"
   ]
  },
  {
   "cell_type": "code",
   "execution_count": 59,
   "metadata": {},
   "outputs": [
    {
     "data": {
      "text/plain": [
       "array([ 1900,  1900,  2600, ..., -4700, -4100, -3700], dtype=int32)"
      ]
     },
     "execution_count": 59,
     "metadata": {},
     "output_type": "execute_result"
    }
   ],
   "source": [
    "trc_data_converted"
   ]
  },
  {
   "cell_type": "code",
   "execution_count": 60,
   "metadata": {
    "collapsed": true
   },
   "outputs": [],
   "source": [
    "#short_data = trc_data_converted[:10000]"
   ]
  },
  {
   "cell_type": "code",
   "execution_count": 61,
   "metadata": {},
   "outputs": [
    {
     "data": {
      "text/plain": [
       "(array([  6.69000000e+02,   1.70000000e+01,   2.50000000e+01,\n",
       "          2.60000000e+01,   2.00000000e+01,   1.30000000e+01,\n",
       "          1.20000000e+01,   2.10000000e+01,   2.00000000e+01,\n",
       "          2.50000000e+01,   1.90000000e+01,   2.20000000e+01,\n",
       "          1.90000000e+01,   2.10000000e+01,   1.60000000e+01,\n",
       "          2.10000000e+01,   1.90000000e+01,   1.90000000e+01,\n",
       "          2.10000000e+01,   1.10000000e+01,   3.10000000e+01,\n",
       "          2.80000000e+01,   3.60000000e+01,   2.90000000e+01,\n",
       "          4.30000000e+01,   4.50000000e+01,   3.90000000e+01,\n",
       "          3.70000000e+01,   3.40000000e+01,   4.80000000e+01,\n",
       "          5.00000000e+01,   4.70000000e+01,   4.90000000e+01,\n",
       "          5.40000000e+01,   5.70000000e+01,   7.70000000e+01,\n",
       "          5.60000000e+01,   6.90000000e+01,   6.90000000e+01,\n",
       "          8.50000000e+01,   8.30000000e+01,   9.90000000e+01,\n",
       "          8.50000000e+01,   9.50000000e+01,   1.16000000e+02,\n",
       "          1.10000000e+02,   1.23000000e+02,   1.27000000e+02,\n",
       "          1.50000000e+02,   1.29000000e+02,   1.36000000e+02,\n",
       "          1.50000000e+02,   1.59000000e+02,   1.85000000e+02,\n",
       "          1.81000000e+02,   2.01000000e+02,   2.22000000e+02,\n",
       "          2.38000000e+02,   2.78000000e+02,   2.69000000e+02,\n",
       "          3.25000000e+02,   3.42000000e+02,   3.60000000e+02,\n",
       "          4.58000000e+02,   4.78000000e+02,   5.69000000e+02,\n",
       "          6.66000000e+02,   7.57000000e+02,   8.88000000e+02,\n",
       "          1.04900000e+03,   1.24000000e+03,   1.52900000e+03,\n",
       "          1.88400000e+03,   2.56400000e+03,   3.43800000e+03,\n",
       "          4.86800000e+03,   7.34000000e+03,   1.19050000e+04,\n",
       "          2.17670000e+04,   3.95430000e+04,   8.52150000e+04,\n",
       "          2.02051000e+05,   4.67906000e+05,   1.15184200e+06,\n",
       "          4.68991200e+06,   1.63222730e+07,   3.27347160e+07,\n",
       "          2.94518840e+07,   1.22501260e+07,   2.31458600e+06,\n",
       "          2.05900000e+05,   1.15420000e+04,   2.11500000e+03,\n",
       "          1.35800000e+03,   7.13000000e+02,   3.93000000e+02,\n",
       "          1.74000000e+02,   9.60000000e+01,   6.10000000e+01,\n",
       "          4.00000000e+01]),\n",
       " array([-355800., -351705., -347610., -343515., -339420., -335325.,\n",
       "        -331230., -327135., -323040., -318945., -314850., -310755.,\n",
       "        -306660., -302565., -298470., -294375., -290280., -286185.,\n",
       "        -282090., -277995., -273900., -269805., -265710., -261615.,\n",
       "        -257520., -253425., -249330., -245235., -241140., -237045.,\n",
       "        -232950., -228855., -224760., -220665., -216570., -212475.,\n",
       "        -208380., -204285., -200190., -196095., -192000., -187905.,\n",
       "        -183810., -179715., -175620., -171525., -167430., -163335.,\n",
       "        -159240., -155145., -151050., -146955., -142860., -138765.,\n",
       "        -134670., -130575., -126480., -122385., -118290., -114195.,\n",
       "        -110100., -106005., -101910.,  -97815.,  -93720.,  -89625.,\n",
       "         -85530.,  -81435.,  -77340.,  -73245.,  -69150.,  -65055.,\n",
       "         -60960.,  -56865.,  -52770.,  -48675.,  -44580.,  -40485.,\n",
       "         -36390.,  -32295.,  -28200.,  -24105.,  -20010.,  -15915.,\n",
       "         -11820.,   -7725.,   -3630.,     465.,    4560.,    8655.,\n",
       "          12750.,   16845.,   20940.,   25035.,   29130.,   33225.,\n",
       "          37320.,   41415.,   45510.,   49605.,   53700.]),\n",
       " <a list of 100 Patch objects>)"
      ]
     },
     "execution_count": 61,
     "metadata": {},
     "output_type": "execute_result"
    }
   ],
   "source": [
    "plt.hist(trc_data_converted, bins=100)"
   ]
  },
  {
   "cell_type": "code",
   "execution_count": 62,
   "metadata": {},
   "outputs": [],
   "source": [
    "plt.yscale('log', nonposy='clip')"
   ]
  },
  {
   "cell_type": "code",
   "execution_count": 63,
   "metadata": {},
   "outputs": [
    {
     "data": {
      "text/plain": [
       "<matplotlib.text.Text at 0x7f7250b66e10>"
      ]
     },
     "execution_count": 63,
     "metadata": {},
     "output_type": "execute_result"
    }
   ],
   "source": [
    "plt.ylabel('Points')\n",
    "plt.xlabel('Value')"
   ]
  },
  {
   "cell_type": "code",
   "execution_count": 64,
   "metadata": {},
   "outputs": [
    {
     "data": {
      "image/png": "[encoded data removed]",
      "text/plain": [
       "<matplotlib.figure.Figure at 0x7f7250b3d240>"
      ]
     },
     "metadata": {},
     "output_type": "display_data"
    }
   ],
   "source": [
    "plt.show()"
   ]
  },
  {
   "cell_type": "code",
   "execution_count": null,
   "metadata": {
    "collapsed": true
   },
   "outputs": [],
   "source": []
  }
 ],
 "metadata": {
  "kernelspec": {
   "display_name": "Python 3",
   "language": "python",
   "name": "python3"
  },
  "language_info": {
   "codemirror_mode": {
    "name": "ipython",
    "version": 3
   },
   "file_extension": ".py",
   "mimetype": "text/x-python",
   "name": "python",
   "nbconvert_exporter": "python",
   "pygments_lexer": "ipython3",
   "version": "3.5.2"
  }
 },
 "nbformat": 4,
 "nbformat_minor": 2
}

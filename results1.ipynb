{
 "cells": [
  {
   "cell_type": "code",
   "execution_count": 1,
   "metadata": {
    "collapsed": true
   },
   "outputs": [],
   "source": [
    "import numpy as np\n",
    "import matplotlib.pyplot as plt"
   ]
  },
  {
   "cell_type": "code",
   "execution_count": 2,
   "metadata": {
    "collapsed": true
   },
   "outputs": [],
   "source": [
    "# Copied from https://gist.github.com/grzanka/0485c05a59991c4826d2c2624710e5f0\n",
    "def read_trc_file(filename, count=-1, only_metadata = False):\n",
    "    from lecroy import LecroyBinaryWaveform\n",
    "    data = LecroyBinaryWaveform(inputfilename=filename, file_content=None, count=count)\n",
    "    y_data = None\n",
    "    if not only_metadata:\n",
    "        y_data = data.WAVE_ARRAY_RAW\n",
    "    metadata_dict = data.metadata\n",
    "    return y_data, metadata_dict\n"
   ]
  },
  {
   "cell_type": "code",
   "execution_count": 3,
   "metadata": {
    "collapsed": true
   },
   "outputs": [],
   "source": [
    "# Copied from: https://gist.github.com/grzanka/0485c05a59991c4826d2c2624710e5f0\n",
    "def convert_to_uV(y_data, metadata_dict):\n",
    "    # if metadata_dict['VERTICAL_GAIN'] != np.float32('6.25e-5'):\n",
    "    #     return None\n",
    "\n",
    "    offset_uV = np.int32(np.around(metadata_dict['VERTICAL_OFFSET'] * 1e6))\n",
    "    gain = np.int32(np.around(metadata_dict['VERTICAL_GAIN'] * 1e6))\n",
    "\n",
    "    y_data_uV = y_data.astype(np.int32)\n",
    "    y_data_uV //= 16\n",
    "    y_data_uV *= 100\n",
    "    y_data_uV *= gain\n",
    "    y_data_uV -= offset_uV\n",
    "\n",
    "    return y_data_uV"
   ]
  },
  {
   "cell_type": "code",
   "execution_count": 4,
   "metadata": {
    "collapsed": true
   },
   "outputs": [],
   "source": [
    "file = 'C2Trace00012.trc'\n",
    "trc_data = read_trc_file(file)\n",
    "trc_data_converted = convert_to_uV(trc_data[0], trc_data[1])"
   ]
  },
  {
   "cell_type": "code",
   "execution_count": 5,
   "metadata": {
    "collapsed": true
   },
   "outputs": [],
   "source": [
    "trc_data_uniq = np.unique(trc_data_converted)\n",
    "trc_data_sorted = np.sort(trc_data_uniq, kind='quicksort')"
   ]
  },
  {
   "cell_type": "code",
   "execution_count": 6,
   "metadata": {
    "collapsed": true
   },
   "outputs": [],
   "source": [
    "trc_data_pairs = list(zip(trc_data_sorted,trc_data_sorted[1:]))"
   ]
  },
  {
   "cell_type": "code",
   "execution_count": 10,
   "metadata": {},
   "outputs": [],
   "source": [
    "min_diff = np.inf\n",
    "for i,j in trc_data_pairs:\n",
    "    min_diff = np.minimum(min_diff, j-i)"
   ]
  },
  {
   "cell_type": "code",
   "execution_count": 14,
   "metadata": {},
   "outputs": [],
   "source": [
    "bins = []\n",
    "current_bin = trc_data_sorted[0] - min_diff / 2\n",
    "while current_bin < trc_data_sorted[-1] + min_diff:\n",
    "    bins.append(current_bin)\n",
    "    current_bin += min_diff"
   ]
  },
  {
   "cell_type": "code",
   "execution_count": 15,
   "metadata": {},
   "outputs": [
    {
     "data": {
      "text/plain": [
       "(array([  1.33000000e+02,   0.00000000e+00,   2.00000000e+00,\n",
       "          1.00000000e+00,   3.00000000e+00,   2.00000000e+00,\n",
       "          1.00000000e+00,   2.00000000e+00,   1.00000000e+00,\n",
       "          2.00000000e+00,   1.00000000e+00,   1.00000000e+00,\n",
       "          1.00000000e+00,   0.00000000e+00,   1.00000000e+00,\n",
       "          1.00000000e+00,   5.00000000e+00,   1.00000000e+00,\n",
       "          4.00000000e+00,   1.00000000e+00,   2.00000000e+00,\n",
       "          5.00000000e+00,   4.00000000e+00,   0.00000000e+00,\n",
       "          6.00000000e+00,   6.00000000e+00,   2.00000000e+00,\n",
       "          3.00000000e+00,   2.00000000e+00,   2.00000000e+00,\n",
       "          6.00000000e+00,   1.00000000e+00,   8.00000000e+00,\n",
       "          1.10000000e+01,   1.20000000e+01,   2.40000000e+01,\n",
       "          2.80000000e+01,   5.20000000e+01,   7.70000000e+01,\n",
       "          1.30000000e+02,   1.99000000e+02,   4.06000000e+02,\n",
       "          6.41000000e+02,   1.08900000e+03,   2.02200000e+03,\n",
       "          3.38800000e+03,   5.37100000e+03,   9.51500000e+03,\n",
       "          1.52550000e+04,   2.61340000e+04,   3.94390000e+04,\n",
       "          5.22640000e+04,   7.53910000e+04,   9.04670000e+04,\n",
       "          1.14923000e+05,   1.41295000e+05,   1.78104000e+05,\n",
       "          2.39686000e+05,   3.12141000e+05,   3.62368000e+05,\n",
       "          4.26771000e+05,   4.58707000e+05,   4.75640000e+05,\n",
       "          5.46760000e+05,   5.61613000e+05,   5.86354000e+05,\n",
       "          5.66496000e+05,   5.24316000e+05,   4.67939000e+05,\n",
       "          3.86712000e+05,   2.98995000e+05,   2.32423000e+05,\n",
       "          1.75261000e+05,   1.25455000e+05,   9.11790000e+04,\n",
       "          6.35170000e+04,   4.74360000e+04,   3.29900000e+04,\n",
       "          2.37860000e+04,   1.87710000e+04,   1.42880000e+04,\n",
       "          1.19540000e+04,   9.38800000e+03,   7.56500000e+03,\n",
       "          6.43800000e+03,   5.49200000e+03,   4.97000000e+03,\n",
       "          4.67300000e+03,   4.43800000e+03,   4.27300000e+03,\n",
       "          4.06600000e+03,   3.73600000e+03,   3.36100000e+03,\n",
       "          2.98300000e+03,   2.77300000e+03,   2.84900000e+03,\n",
       "          2.67300000e+03,   2.72400000e+03,   2.64100000e+03,\n",
       "          2.60900000e+03,   2.48400000e+03,   2.29700000e+03,\n",
       "          2.19900000e+03,   2.17400000e+03,   2.10500000e+03,\n",
       "          2.11100000e+03,   1.98300000e+03,   2.01900000e+03,\n",
       "          2.22800000e+03,   2.17300000e+03,   2.20600000e+03,\n",
       "          2.26300000e+03,   2.32700000e+03,   2.47000000e+03,\n",
       "          2.46900000e+03,   2.27700000e+03,   2.31100000e+03,\n",
       "          2.19800000e+03,   2.15300000e+03,   2.03800000e+03,\n",
       "          1.89900000e+03,   2.02400000e+03,   2.19300000e+03,\n",
       "          2.21400000e+03,   2.24700000e+03,   2.18600000e+03,\n",
       "          2.24700000e+03,   2.47700000e+03,   2.42600000e+03,\n",
       "          2.63800000e+03,   2.75500000e+03,   2.75400000e+03,\n",
       "          2.64700000e+03,   2.54300000e+03,   2.23400000e+03,\n",
       "          2.04100000e+03,   1.82500000e+03,   1.63500000e+03,\n",
       "          1.64500000e+03,   1.42400000e+03,   1.53500000e+03,\n",
       "          1.37600000e+03,   1.30800000e+03,   1.30100000e+03,\n",
       "          1.21100000e+03,   1.22700000e+03,   1.21600000e+03,\n",
       "          1.10600000e+03,   1.01600000e+03,   9.11000000e+02,\n",
       "          8.88000000e+02,   7.49000000e+02,   6.50000000e+02,\n",
       "          7.50000000e+02,   7.17000000e+02,   6.81000000e+02,\n",
       "          6.54000000e+02,   5.39000000e+02,   4.49000000e+02,\n",
       "          4.38000000e+02,   4.33000000e+02,   3.93000000e+02,\n",
       "          3.45000000e+02,   3.44000000e+02,   3.33000000e+02,\n",
       "          2.71000000e+02,   2.25000000e+02,   2.20000000e+02,\n",
       "          2.18000000e+02,   1.90000000e+02,   2.06000000e+02,\n",
       "          2.01000000e+02,   1.86000000e+02,   2.08000000e+02,\n",
       "          1.94000000e+02,   1.64000000e+02,   1.89000000e+02,\n",
       "          1.47000000e+02,   1.55000000e+02,   1.26000000e+02,\n",
       "          1.17000000e+02,   9.20000000e+01,   9.40000000e+01,\n",
       "          5.70000000e+01,   6.70000000e+01,   6.70000000e+01,\n",
       "          7.30000000e+01,   6.90000000e+01,   8.60000000e+01,\n",
       "          6.90000000e+01,   6.40000000e+01,   7.60000000e+01,\n",
       "          7.50000000e+01,   6.50000000e+01,   5.30000000e+01,\n",
       "          7.30000000e+01,   5.00000000e+01,   5.20000000e+01,\n",
       "          4.90000000e+01,   3.60000000e+01,   3.80000000e+01,\n",
       "          3.80000000e+01,   2.40000000e+01,   3.60000000e+01,\n",
       "          3.20000000e+01,   3.70000000e+01,   3.20000000e+01,\n",
       "          3.50000000e+01,   3.30000000e+01,   3.30000000e+01,\n",
       "          2.40000000e+01,   2.60000000e+01,   2.60000000e+01,\n",
       "          2.20000000e+01,   2.60000000e+01,   2.30000000e+01,\n",
       "          1.10000000e+01,   1.20000000e+01,   1.60000000e+01,\n",
       "          1.70000000e+01,   1.20000000e+01,   1.40000000e+01,\n",
       "          1.60000000e+01,   1.10000000e+01,   7.00000000e+00,\n",
       "          1.20000000e+01,   1.00000000e+01,   9.00000000e+00,\n",
       "          5.00000000e+00,   7.00000000e+00,   8.00000000e+00,\n",
       "          5.00000000e+00,   3.00000000e+00,   6.00000000e+00,\n",
       "          4.00000000e+00,   1.00000000e+01,   6.00000000e+00,\n",
       "          8.00000000e+00,   4.00000000e+00,   8.00000000e+00,\n",
       "          3.00000000e+00,   8.00000000e+00,   3.00000000e+00,\n",
       "          7.00000000e+00,   5.00000000e+00,   3.00000000e+00,\n",
       "          4.00000000e+00,   3.00000000e+00,   4.00000000e+00,\n",
       "          2.00000000e+00,   1.00000000e+00,   1.00000000e+00,\n",
       "          1.00000000e+00,   0.00000000e+00,   6.00000000e+00,\n",
       "          2.14000000e+02]),\n",
       " array([-560800., -556000., -551200., -546400., -541600., -536800.,\n",
       "        -532000., -527200., -522400., -517600., -512800., -508000.,\n",
       "        -503200., -498400., -493600., -488800., -484000., -479200.,\n",
       "        -474400., -469600., -464800., -460000., -455200., -450400.,\n",
       "        -445600., -440800., -436000., -431200., -426400., -421600.,\n",
       "        -416800., -412000., -407200., -402400., -397600., -392800.,\n",
       "        -388000., -383200., -378400., -373600., -368800., -364000.,\n",
       "        -359200., -354400., -349600., -344800., -340000., -335200.,\n",
       "        -330400., -325600., -320800., -316000., -311200., -306400.,\n",
       "        -301600., -296800., -292000., -287200., -282400., -277600.,\n",
       "        -272800., -268000., -263200., -258400., -253600., -248800.,\n",
       "        -244000., -239200., -234400., -229600., -224800., -220000.,\n",
       "        -215200., -210400., -205600., -200800., -196000., -191200.,\n",
       "        -186400., -181600., -176800., -172000., -167200., -162400.,\n",
       "        -157600., -152800., -148000., -143200., -138400., -133600.,\n",
       "        -128800., -124000., -119200., -114400., -109600., -104800.,\n",
       "        -100000.,  -95200.,  -90400.,  -85600.,  -80800.,  -76000.,\n",
       "         -71200.,  -66400.,  -61600.,  -56800.,  -52000.,  -47200.,\n",
       "         -42400.,  -37600.,  -32800.,  -28000.,  -23200.,  -18400.,\n",
       "         -13600.,   -8800.,   -4000.,     800.,    5600.,   10400.,\n",
       "          15200.,   20000.,   24800.,   29600.,   34400.,   39200.,\n",
       "          44000.,   48800.,   53600.,   58400.,   63200.,   68000.,\n",
       "          72800.,   77600.,   82400.,   87200.,   92000.,   96800.,\n",
       "         101600.,  106400.,  111200.,  116000.,  120800.,  125600.,\n",
       "         130400.,  135200.,  140000.,  144800.,  149600.,  154400.,\n",
       "         159200.,  164000.,  168800.,  173600.,  178400.,  183200.,\n",
       "         188000.,  192800.,  197600.,  202400.,  207200.,  212000.,\n",
       "         216800.,  221600.,  226400.,  231200.,  236000.,  240800.,\n",
       "         245600.,  250400.,  255200.,  260000.,  264800.,  269600.,\n",
       "         274400.,  279200.,  284000.,  288800.,  293600.,  298400.,\n",
       "         303200.,  308000.,  312800.,  317600.,  322400.,  327200.,\n",
       "         332000.,  336800.,  341600.,  346400.,  351200.,  356000.,\n",
       "         360800.,  365600.,  370400.,  375200.,  380000.,  384800.,\n",
       "         389600.,  394400.,  399200.,  404000.,  408800.,  413600.,\n",
       "         418400.,  423200.,  428000.,  432800.,  437600.,  442400.,\n",
       "         447200.,  452000.,  456800.,  461600.,  466400.,  471200.,\n",
       "         476000.,  480800.,  485600.,  490400.,  495200.,  500000.,\n",
       "         504800.,  509600.,  514400.,  519200.,  524000.,  528800.,\n",
       "         533600.,  538400.,  543200.,  548000.,  552800.,  557600.,\n",
       "         562400.,  567200.,  572000.,  576800.,  581600.,  586400.,\n",
       "         591200.,  596000.,  600800.,  605600.,  610400.,  615200.,\n",
       "         620000.,  624800.,  629600.,  634400.,  639200.,  644000.,\n",
       "         648800.,  653600.,  658400.,  663200.,  668000.]),\n",
       " <a list of 256 Patch objects>)"
      ]
     },
     "execution_count": 15,
     "metadata": {},
     "output_type": "execute_result"
    }
   ],
   "source": [
    "plt.hist(trc_data_converted, bins=bins)"
   ]
  },
  {
   "cell_type": "code",
   "execution_count": 16,
   "metadata": {
    "collapsed": true
   },
   "outputs": [],
   "source": [
    "plt.yscale('log', nonposy='clip')"
   ]
  },
  {
   "cell_type": "code",
   "execution_count": 17,
   "metadata": {},
   "outputs": [
    {
     "data": {
      "text/plain": [
       "<matplotlib.text.Text at 0x7f8dcb0776a0>"
      ]
     },
     "execution_count": 17,
     "metadata": {},
     "output_type": "execute_result"
    }
   ],
   "source": [
    "plt.ylabel('Points')\n",
    "plt.xlabel('Voltage (uV)')"
   ]
  },
  {
   "cell_type": "code",
   "execution_count": 18,
   "metadata": {},
   "outputs": [
    {
     "data": {
      "image/png": "[encoded data removed]",
      "text/plain": [
       "<matplotlib.figure.Figure at 0x7f8dcb8edb00>"
      ]
     },
     "metadata": {},
     "output_type": "display_data"
    }
   ],
   "source": [
    "plt.show()"
   ]
  },
  {
   "cell_type": "code",
   "execution_count": null,
   "metadata": {
    "collapsed": true
   },
   "outputs": [],
   "source": []
  }
 ],
 "metadata": {
  "kernelspec": {
   "display_name": "Python 3",
   "language": "python",
   "name": "python3"
  },
  "language_info": {
   "codemirror_mode": {
    "name": "ipython",
    "version": 3
   },
   "file_extension": ".py",
   "mimetype": "text/x-python",
   "name": "python",
   "nbconvert_exporter": "python",
   "pygments_lexer": "ipython3",
   "version": "3.5.2"
  }
 },
 "nbformat": 4,
 "nbformat_minor": 2
}

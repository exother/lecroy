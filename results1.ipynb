{
 "cells": [
  {
   "cell_type": "code",
   "execution_count": 1,
   "metadata": {
    "collapsed": true
   },
   "outputs": [],
   "source": [
    "import numpy as np\n",
    "import matplotlib.pyplot as plt"
   ]
  },
  {
   "cell_type": "code",
   "execution_count": 2,
   "metadata": {
    "collapsed": true
   },
   "outputs": [],
   "source": [
    "# Copied from https://gist.github.com/grzanka/0485c05a59991c4826d2c2624710e5f0\n",
    "def read_trc_file(filename, count=-1, only_metadata = False):\n",
    "    from lecroy import LecroyBinaryWaveform\n",
    "    data = LecroyBinaryWaveform(inputfilename=filename, file_content=None, count=count)\n",
    "    y_data = None\n",
    "    if not only_metadata:\n",
    "        y_data = data.WAVE_ARRAY_RAW\n",
    "    metadata_dict = data.metadata\n",
    "    return y_data, metadata_dict\n"
   ]
  },
  {
   "cell_type": "code",
   "execution_count": 3,
   "metadata": {
    "collapsed": true
   },
   "outputs": [],
   "source": [
    "# Copied from: https://gist.github.com/grzanka/0485c05a59991c4826d2c2624710e5f0\n",
    "def convert_to_uV(y_data, metadata_dict):\n",
    "    # if metadata_dict['VERTICAL_GAIN'] != np.float32('6.25e-5'):\n",
    "    #     return None\n",
    "\n",
    "    offset_uV = np.int32(np.around(metadata_dict['VERTICAL_OFFSET'] * 1e6))\n",
    "    gain = np.int32(np.around(metadata_dict['VERTICAL_GAIN'] * 1e6))\n",
    "\n",
    "    y_data_uV = y_data.astype(np.int32)\n",
    "    y_data_uV //= 16\n",
    "    y_data_uV *= 100\n",
    "    y_data_uV *= gain\n",
    "    y_data_uV -= offset_uV\n",
    "\n",
    "    return y_data_uV"
   ]
  },
  {
   "cell_type": "code",
   "execution_count": 4,
   "metadata": {},
   "outputs": [],
   "source": [
    "file = 'data.trc'\n",
    "trc_data = read_trc_file(file)\n",
    "trc_data_converted = convert_to_uV(trc_data[0], trc_data[1])"
   ]
  },
  {
   "cell_type": "code",
   "execution_count": 5,
   "metadata": {
    "collapsed": true
   },
   "outputs": [],
   "source": [
    "trc_data_sorted = np.sort(trc_data_converted, kind='quicksort')"
   ]
  },
  {
   "cell_type": "code",
   "execution_count": 6,
   "metadata": {
    "collapsed": true
   },
   "outputs": [],
   "source": [
    "trc_data_pairs = list(zip(trc_data_sorted,trc_data_sorted[1:]))"
   ]
  },
  {
   "cell_type": "code",
   "execution_count": 8,
   "metadata": {
    "collapsed": true
   },
   "outputs": [],
   "source": [
    "min_diff=np.inf\n",
    "for i,j in trc_data_pairs:\n",
    "    if j-i > 0:\n",
    "        min_diff=np.minimum(min_diff,j-i)"
   ]
  },
  {
   "cell_type": "code",
   "execution_count": 30,
   "metadata": {},
   "outputs": [],
   "source": [
    "data_range = trc_data_sorted[-1] - trc_data_sorted[0]\n",
    "bins = np.int32(np.ceil(data_range / min_diff))"
   ]
  },
  {
   "cell_type": "code",
   "execution_count": 31,
   "metadata": {},
   "outputs": [
    {
     "data": {
      "text/plain": [
       "(array([ 644.,    2.,    1., ...,    1.,    0.,   17.]),\n",
       " array([-1379800., -1379200., -1378600., ...,  1076000.,  1076600.,\n",
       "         1077200.]),\n",
       " <a list of 4095 Patch objects>)"
      ]
     },
     "execution_count": 31,
     "metadata": {},
     "output_type": "execute_result"
    }
   ],
   "source": [
    "plt.hist(trc_data_sorted, bins=bins)"
   ]
  },
  {
   "cell_type": "code",
   "execution_count": 32,
   "metadata": {
    "collapsed": true
   },
   "outputs": [],
   "source": [
    "plt.yscale('log', nonposy='clip')"
   ]
  },
  {
   "cell_type": "code",
   "execution_count": 33,
   "metadata": {},
   "outputs": [
    {
     "data": {
      "text/plain": [
       "<matplotlib.text.Text at 0x7fabc6bd9940>"
      ]
     },
     "execution_count": 33,
     "metadata": {},
     "output_type": "execute_result"
    }
   ],
   "source": [
    "plt.ylabel('Points')\n",
    "plt.xlabel('Voltage (uV)')"
   ]
  },
  {
   "cell_type": "code",
   "execution_count": 34,
   "metadata": {},
   "outputs": [
    {
     "data": {
      "image/png": "[encoded data removed]",
      "text/plain": [
       "<matplotlib.figure.Figure at 0x7fabc6ec9b00>"
      ]
     },
     "metadata": {},
     "output_type": "display_data"
    }
   ],
   "source": [
    "plt.show()"
   ]
  },
  {
   "cell_type": "code",
   "execution_count": null,
   "metadata": {
    "collapsed": true
   },
   "outputs": [],
   "source": []
  }
 ],
 "metadata": {
  "kernelspec": {
   "display_name": "Python 3",
   "language": "python",
   "name": "python3"
  },
  "language_info": {
   "codemirror_mode": {
    "name": "ipython",
    "version": 3
   },
   "file_extension": ".py",
   "mimetype": "text/x-python",
   "name": "python",
   "nbconvert_exporter": "python",
   "pygments_lexer": "ipython3",
   "version": "3.5.2"
  }
 },
 "nbformat": 4,
 "nbformat_minor": 2
}
